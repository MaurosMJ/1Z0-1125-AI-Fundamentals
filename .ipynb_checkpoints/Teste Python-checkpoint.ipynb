{
 "cells": [
  {
   "cell_type": "code",
   "execution_count": 1,
   "id": "1c404178-17fe-4920-a128-398d96eda1ed",
   "metadata": {},
   "outputs": [],
   "source": [
    "# Program that Adds two Numbers\n",
    "\n",
    "num1 = 1\n",
    "num2 = 2\n",
    "\n",
    "# add two number\n",
    "sum = num1 + num2"
   ]
  },
  {
   "cell_type": "code",
   "execution_count": 5,
   "id": "7cf4d420-cc5f-4c46-abd0-8e8cd1d0de5a",
   "metadata": {},
   "outputs": [
    {
     "name": "stdout",
     "output_type": "stream",
     "text": [
      "A soma de 1 e 2 é 3\n"
     ]
    }
   ],
   "source": [
    "print ('A soma de {0} e {1} é {2}'.format(num1, num2, sum))"
   ]
  },
  {
   "cell_type": "code",
   "execution_count": null,
   "id": "260dab0f-0dec-415f-9753-cae76a310cff",
   "metadata": {},
   "outputs": [],
   "source": []
  }
 ],
 "metadata": {
  "kernelspec": {
   "display_name": "Python [conda env:base] *",
   "language": "python",
   "name": "conda-base-py"
  },
  "language_info": {
   "codemirror_mode": {
    "name": "ipython",
    "version": 3
   },
   "file_extension": ".py",
   "mimetype": "text/x-python",
   "name": "python",
   "nbconvert_exporter": "python",
   "pygments_lexer": "ipython3",
   "version": "3.12.7"
  }
 },
 "nbformat": 4,
 "nbformat_minor": 5
}
